{
 "cells": [
  {
   "cell_type": "code",
   "execution_count": 1,
   "metadata": {},
   "outputs": [
    {
     "name": "stdout",
     "output_type": "stream",
     "text": [
      "{'uci_id': 380, 'name': 'YouTube Spam Collection', 'repository_url': 'https://archive.ics.uci.edu/dataset/380/youtube+spam+collection', 'data_url': 'https://archive.ics.uci.edu/static/public/380/data.csv', 'abstract': 'It is a public set of comments collected for spam research. It has five datasets composed by 1,956 real messages extracted from five videos that were among the 10 most viewed on the collection period.', 'area': 'Computer Science', 'tasks': ['Classification'], 'characteristics': ['Text'], 'num_instances': 1956, 'num_features': 3, 'feature_types': [], 'demographics': [], 'target_col': ['CLASS'], 'index_col': ['VIDEO', 'COMMENT_ID'], 'has_missing_values': 'no', 'missing_values_symbol': None, 'year_of_dataset_creation': 2015, 'last_updated': 'Wed Apr 03 2024', 'dataset_doi': '10.24432/C58885', 'creators': ['T.C. Alberto', 'J.V. Lochter'], 'intro_paper': None, 'additional_info': {'summary': 'The table below lists the datasets, the YouTube video ID, the amount of samples in each class and the total number of samples per dataset.\\r\\n\\r\\nDataset --- YouTube ID -- # Spam - # Ham - Total\\r\\nPsy ------- 9bZkp7q19f0 --- 175 --- 175 --- 350\\r\\nKatyPerry - CevxZvSJLk8 --- 175 --- 175 --- 350\\r\\nLMFAO ----- KQ6zr6kCPj8 --- 236 --- 202 --- 438\\r\\nEminem ---- uelHwf8o7_U --- 245 --- 203 --- 448\\r\\nShakira --- pRpeEdMmmQ0 --- 174 --- 196 --- 370\\r\\n\\r\\nNote: the chronological order of the comments were kept.\\r\\n', 'purpose': None, 'funded_by': None, 'instances_represent': None, 'recommended_data_splits': None, 'sensitive_data': None, 'preprocessing_description': None, 'variable_info': 'The collection is composed by one CSV file per dataset, where each line has the following attributes:\\r\\n\\r\\nCOMMENT_ID,AUTHOR,DATE,CONTENT,TAG\\r\\n\\r\\nWe offer one example bellow:\\r\\n\\r\\nz12oglnpoq3gjh4om04cfdlbgp2uepyytpw0k,Francisco Nora,2013-11-28T19:52:35,please like :D https://premium.easypromosapp.com/voteme/19924/616375350,1\\r\\n', 'citation': None}}\n",
      "         name     role         type demographic description units  \\\n",
      "0       VIDEO       ID  Categorical        None        None  None   \n",
      "1  COMMENT_ID       ID  Categorical        None        None  None   \n",
      "2      AUTHOR  Feature  Categorical        None        None  None   \n",
      "3        DATE  Feature  Categorical        None        None  None   \n",
      "4     CONTENT  Feature  Categorical        None        None  None   \n",
      "5       CLASS   Target       Binary        None        None  None   \n",
      "\n",
      "  missing_values  \n",
      "0             no  \n",
      "1             no  \n",
      "2             no  \n",
      "3             no  \n",
      "4             no  \n",
      "5             no  \n"
     ]
    }
   ],
   "source": [
    "from ucimlrepo import fetch_ucirepo \n",
    "  \n",
    "# fetch dataset \n",
    "youtube_spam_collection = fetch_ucirepo(id=380) \n",
    "  \n",
    "# data (as pandas dataframes) \n",
    "X = youtube_spam_collection.data.features \n",
    "y = youtube_spam_collection.data.targets \n",
    "  \n",
    "# metadata \n",
    "print(youtube_spam_collection.metadata) \n",
    "  \n",
    "# variable information \n",
    "print(youtube_spam_collection.variables) \n"
   ]
  },
  {
   "cell_type": "code",
   "execution_count": 4,
   "metadata": {},
   "outputs": [
    {
     "ename": "NameError",
     "evalue": "name 'z' is not defined",
     "output_type": "error",
     "traceback": [
      "\u001b[0;31m---------------------------------------------------------------------------\u001b[0m",
      "\u001b[0;31mNameError\u001b[0m                                 Traceback (most recent call last)",
      "Cell \u001b[0;32mIn[4], line 1\u001b[0m\n\u001b[0;32m----> 1\u001b[0m \u001b[43mz\u001b[49m\n",
      "\u001b[0;31mNameError\u001b[0m: name 'z' is not defined"
     ]
    }
   ],
   "source": []
  },
  {
   "cell_type": "code",
   "execution_count": null,
   "metadata": {},
   "outputs": [],
   "source": [
    "\n"
   ]
  },
  {
   "cell_type": "code",
   "execution_count": null,
   "metadata": {},
   "outputs": [],
   "source": []
  }
 ],
 "metadata": {
  "kernelspec": {
   "display_name": "env",
   "language": "python",
   "name": "python3"
  },
  "language_info": {
   "codemirror_mode": {
    "name": "ipython",
    "version": 3
   },
   "file_extension": ".py",
   "mimetype": "text/x-python",
   "name": "python",
   "nbconvert_exporter": "python",
   "pygments_lexer": "ipython3",
   "version": "3.12.7"
  }
 },
 "nbformat": 4,
 "nbformat_minor": 2
}
